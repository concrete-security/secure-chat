{
 "cells": [
  {
   "cell_type": "code",
   "execution_count": 5,
   "id": "4bac5c39",
   "metadata": {},
   "outputs": [],
   "source": [
    "# !pip install pandas\n",
    "\n",
    "import pandas as pd\n"
   ]
  },
  {
   "cell_type": "code",
   "execution_count": 12,
   "id": "7b794aa6",
   "metadata": {},
   "outputs": [
    {
     "data": {
      "text/html": [
       "<div>\n",
       "<style scoped>\n",
       "    .dataframe tbody tr th:only-of-type {\n",
       "        vertical-align: middle;\n",
       "    }\n",
       "\n",
       "    .dataframe tbody tr th {\n",
       "        vertical-align: top;\n",
       "    }\n",
       "\n",
       "    .dataframe thead th {\n",
       "        text-align: right;\n",
       "    }\n",
       "</style>\n",
       "<table border=\"1\" class=\"dataframe\">\n",
       "  <thead>\n",
       "    <tr style=\"text-align: right;\">\n",
       "      <th></th>\n",
       "      <th>is_cvm</th>\n",
       "      <th>machine</th>\n",
       "      <th>user_id</th>\n",
       "      <th>date</th>\n",
       "      <th>dt_file_reading_s</th>\n",
       "      <th>total_call_time_s</th>\n",
       "      <th>call1_time_s</th>\n",
       "      <th>call2_time_s</th>\n",
       "      <th>model</th>\n",
       "      <th>model_arguments</th>\n",
       "    </tr>\n",
       "  </thead>\n",
       "  <tbody>\n",
       "    <tr>\n",
       "      <th>0</th>\n",
       "      <td>False</td>\n",
       "      <td>H100</td>\n",
       "      <td>user_123</td>\n",
       "      <td>2025-10-14 19:19:40</td>\n",
       "      <td>0</td>\n",
       "      <td>2.897594</td>\n",
       "      <td>1.024322</td>\n",
       "      <td>1.872174</td>\n",
       "      <td>openai/gpt-oss-120b</td>\n",
       "      <td>temperature=0.2, max_tokens=256</td>\n",
       "    </tr>\n",
       "    <tr>\n",
       "      <th>1</th>\n",
       "      <td>False</td>\n",
       "      <td>H100</td>\n",
       "      <td>user_123</td>\n",
       "      <td>2025-10-15 09:11:38</td>\n",
       "      <td>0</td>\n",
       "      <td>2.255769</td>\n",
       "      <td>0.380401</td>\n",
       "      <td>1.873913</td>\n",
       "      <td>openai/gpt-oss-120b</td>\n",
       "      <td>temperature=0.2, max_tokens=256</td>\n",
       "    </tr>\n",
       "  </tbody>\n",
       "</table>\n",
       "</div>"
      ],
      "text/plain": [
       "   is_cvm machine   user_id                 date  dt_file_reading_s  \\\n",
       "0   False    H100  user_123  2025-10-14 19:19:40                  0   \n",
       "1   False    H100  user_123  2025-10-15 09:11:38                  0   \n",
       "\n",
       "   total_call_time_s  call1_time_s  call2_time_s                model  \\\n",
       "0           2.897594      1.024322      1.872174  openai/gpt-oss-120b   \n",
       "1           2.255769      0.380401      1.873913  openai/gpt-oss-120b   \n",
       "\n",
       "                   model_arguments  \n",
       "0  temperature=0.2, max_tokens=256  \n",
       "1  temperature=0.2, max_tokens=256  "
      ]
     },
     "execution_count": 12,
     "metadata": {},
     "output_type": "execute_result"
    }
   ],
   "source": [
    "\n",
    "path = 'benchmark_backend.csv'\n",
    "\n",
    "df = pd.read_csv(path, delimiter=';')\n",
    "\n",
    "df"
   ]
  }
 ],
 "metadata": {
  "kernelspec": {
   "display_name": ".venv",
   "language": "python",
   "name": "python3"
  },
  "language_info": {
   "codemirror_mode": {
    "name": "ipython",
    "version": 3
   },
   "file_extension": ".py",
   "mimetype": "text/x-python",
   "name": "python",
   "nbconvert_exporter": "python",
   "pygments_lexer": "ipython3",
   "version": "3.12.3"
  }
 },
 "nbformat": 4,
 "nbformat_minor": 5
}
